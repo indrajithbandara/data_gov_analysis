{
 "cells": [
  {
   "cell_type": "markdown",
   "metadata": {},
   "source": [
    "<h2>Variables to consider for building a Swachh Bharat dashboard to measure progress under the initiative.</h2>\n",
    "<p>\n",
    "For this problem, I parsed xml feed from two different data sources, one for <a href='http://tsc.gov.in/tsc/NDSAP/StatewiseDistrictwisePhysicalProgress.xml'>physical </a> progress and one for <a href='http://tsc.gov.in/tsc/NDSAP/StatewiseDistrictwiseFinancialProgress.xml'>financial </a> progress and finally merged them to get a single big data frame containing both physical and financial progress for all the states and their respective district\n",
    "</p>"
   ]
  },
  {
   "cell_type": "code",
   "execution_count": 1,
   "metadata": {
    "collapsed": true
   },
   "outputs": [],
   "source": [
    "import numpy as np\n",
    "import pandas as pd\n",
    "import seaborn as sns\n",
    "import urllib2\n",
    "from xml.dom import minidom\n",
    "%matplotlib inline"
   ]
  },
  {
   "cell_type": "code",
   "execution_count": 2,
   "metadata": {
    "collapsed": true
   },
   "outputs": [],
   "source": [
    "def getXML(url):\n",
    "    \"\"\"\n",
    "    Reads in content from the url\n",
    "    \"\"\"\n",
    "    conn = urllib2.urlopen(url)\n",
    "    return conn.read()"
   ]
  },
  {
   "cell_type": "code",
   "execution_count": 92,
   "metadata": {
    "collapsed": true
   },
   "outputs": [],
   "source": [
    "xml_data = getXML('http://tsc.gov.in/tsc/NDSAP/StatewiseDistrictwisePhysicalProgress.xml')"
   ]
  },
  {
   "cell_type": "code",
   "execution_count": 93,
   "metadata": {
    "collapsed": false
   },
   "outputs": [],
   "source": [
    "def parseXML(xml_data):\n",
    "    \"\"\"\n",
    "    Parses and returns xml data\n",
    "    \"\"\"\n",
    "    return minidom.parseString(xml_data)"
   ]
  },
  {
   "cell_type": "code",
   "execution_count": 94,
   "metadata": {
    "collapsed": true
   },
   "outputs": [],
   "source": [
    "parsed_data = parseXML(xml_data)"
   ]
  },
  {
   "cell_type": "code",
   "execution_count": 95,
   "metadata": {
    "collapsed": true
   },
   "outputs": [],
   "source": [
    "rows = parsed_data.getElementsByTagName('row')"
   ]
  },
  {
   "cell_type": "code",
   "execution_count": 116,
   "metadata": {
    "collapsed": false
   },
   "outputs": [],
   "source": [
    "def prepareDataForPhysical(rows):\n",
    "    \"\"\"\n",
    "    Takes in rows of parsed xml data\n",
    "    and returns a pandas data frame\n",
    "    \"\"\"\n",
    "    column_dict = {}\n",
    "    states = []\n",
    "    district = []\n",
    "    obj_ihhl_total = []\n",
    "    perf_ihhl_total = []\n",
    "    obj_school_toilets = []\n",
    "    perf_school_toilets = []\n",
    "    \n",
    "    for row in rows:\n",
    "        states.append(row.getElementsByTagName('State_Name')[0].childNodes[0].nodeValue)\n",
    "        district.append(row.getElementsByTagName('District_Name')[0].childNodes[0].nodeValue)\n",
    "        \n",
    "        obj_ihhl_total.append(float(row.getElementsByTagName('Project_Objectives_IHHL_TOTAL')[0].childNodes[0].nodeValue))\n",
    "        perf_ihhl_total.append(float(row.getElementsByTagName('Project_Performance-IHHL_TOTAL')[0].childNodes[0].nodeValue))\n",
    "        obj_school_toilets.append(float(row.getElementsByTagName('Project_Objectives_School_Toilets')[0].childNodes[0].nodeValue))\n",
    "        perf_school_toilets.append(float(row.getElementsByTagName('Project_Performance-School_Toilets')[0].childNodes[0].nodeValue))\n",
    "        \n",
    "    column_dict['states'] = states\n",
    "    column_dict['district'] = district\n",
    "    column_dict['obj_ihhl_total'] = obj_ihhl_total\n",
    "    column_dict['perf_ihhl_total'] = perf_ihhl_total\n",
    "    column_dict['obj_school_toilets'] = obj_school_toilets\n",
    "    column_dict['perf_school_toilets'] = perf_school_toilets\n",
    "      \n",
    "    return pd.DataFrame(column_dict)"
   ]
  },
  {
   "cell_type": "code",
   "execution_count": 117,
   "metadata": {
    "collapsed": false
   },
   "outputs": [],
   "source": [
    "sbm_physical_data = prepareDataForPhysical(rows)"
   ]
  },
  {
   "cell_type": "code",
   "execution_count": 118,
   "metadata": {
    "collapsed": false
   },
   "outputs": [
    {
     "data": {
      "text/html": [
       "<div style=\"max-height:1000px;max-width:1500px;overflow:auto;\">\n",
       "<table border=\"1\" class=\"dataframe\">\n",
       "  <thead>\n",
       "    <tr style=\"text-align: right;\">\n",
       "      <th></th>\n",
       "      <th>district</th>\n",
       "      <th>obj_ihhl_total</th>\n",
       "      <th>obj_school_toilets</th>\n",
       "      <th>perf_ihhl_total</th>\n",
       "      <th>perf_school_toilets</th>\n",
       "      <th>states</th>\n",
       "    </tr>\n",
       "  </thead>\n",
       "  <tbody>\n",
       "    <tr>\n",
       "      <th>0</th>\n",
       "      <td>      ADILABAD</td>\n",
       "      <td> 395656</td>\n",
       "      <td> 4462</td>\n",
       "      <td> 228731</td>\n",
       "      <td> 4462</td>\n",
       "      <td> Andhra Pradesh</td>\n",
       "    </tr>\n",
       "    <tr>\n",
       "      <th>1</th>\n",
       "      <td>     ANANTAPUR</td>\n",
       "      <td> 544649</td>\n",
       "      <td> 3421</td>\n",
       "      <td> 408557</td>\n",
       "      <td> 4258</td>\n",
       "      <td> Andhra Pradesh</td>\n",
       "    </tr>\n",
       "    <tr>\n",
       "      <th>2</th>\n",
       "      <td>      CHITTOOR</td>\n",
       "      <td> 533451</td>\n",
       "      <td> 8171</td>\n",
       "      <td> 460655</td>\n",
       "      <td> 8171</td>\n",
       "      <td> Andhra Pradesh</td>\n",
       "    </tr>\n",
       "    <tr>\n",
       "      <th>3</th>\n",
       "      <td>      CUDDAPAH</td>\n",
       "      <td> 503263</td>\n",
       "      <td> 6802</td>\n",
       "      <td> 365273</td>\n",
       "      <td> 5431</td>\n",
       "      <td> Andhra Pradesh</td>\n",
       "    </tr>\n",
       "    <tr>\n",
       "      <th>4</th>\n",
       "      <td> EAST GODAVARI</td>\n",
       "      <td> 561655</td>\n",
       "      <td> 7004</td>\n",
       "      <td> 538705</td>\n",
       "      <td> 7004</td>\n",
       "      <td> Andhra Pradesh</td>\n",
       "    </tr>\n",
       "  </tbody>\n",
       "</table>\n",
       "</div>"
      ],
      "text/plain": [
       "        district  obj_ihhl_total  obj_school_toilets  perf_ihhl_total  \\\n",
       "0       ADILABAD          395656                4462           228731   \n",
       "1      ANANTAPUR          544649                3421           408557   \n",
       "2       CHITTOOR          533451                8171           460655   \n",
       "3       CUDDAPAH          503263                6802           365273   \n",
       "4  EAST GODAVARI          561655                7004           538705   \n",
       "\n",
       "   perf_school_toilets          states  \n",
       "0                 4462  Andhra Pradesh  \n",
       "1                 4258  Andhra Pradesh  \n",
       "2                 8171  Andhra Pradesh  \n",
       "3                 5431  Andhra Pradesh  \n",
       "4                 7004  Andhra Pradesh  "
      ]
     },
     "execution_count": 118,
     "metadata": {},
     "output_type": "execute_result"
    }
   ],
   "source": [
    "sbm_physical_data.head()"
   ]
  },
  {
   "cell_type": "code",
   "execution_count": 119,
   "metadata": {
    "collapsed": true
   },
   "outputs": [],
   "source": [
    "xml_data = getXML('http://tsc.gov.in/tsc/NDSAP/StatewiseDistrictwiseFinancialProgress.xml')"
   ]
  },
  {
   "cell_type": "code",
   "execution_count": 120,
   "metadata": {
    "collapsed": true
   },
   "outputs": [],
   "source": [
    "parsed_data = parseXML(xml_data)"
   ]
  },
  {
   "cell_type": "code",
   "execution_count": 121,
   "metadata": {
    "collapsed": true
   },
   "outputs": [],
   "source": [
    "def prepareDataForFinancial(rows):\n",
    "    \"\"\"\n",
    "    Takes in rows of parsed xml data\n",
    "    and returns a pandas data frame\n",
    "    \"\"\"\n",
    "    column_dict = {}\n",
    "    states = [] \n",
    "    district = [] \n",
    "    total_release_of_funds = []\n",
    "    total_expenditure_of_funds = []\n",
    "    \n",
    "    for row in rows:\n",
    "        states.append(row.getElementsByTagName('State_Name')[0].childNodes[0].nodeValue)\n",
    "        district.append(row.getElementsByTagName('District_Name')[0].childNodes[0].nodeValue)\n",
    "        \n",
    "        total_release_of_funds.append(float(row.getElementsByTagName('Total_Release_of_funds')[0].childNodes[0].nodeValue))\n",
    "        total_expenditure_of_funds.append(float(row.getElementsByTagName('Total_Expenditure_Reported')[0].childNodes[0].nodeValue))\n",
    "        \n",
    "    column_dict['states'] = states\n",
    "    column_dict['district'] = district\n",
    "    column_dict['total_release_of_funds'] = total_release_of_funds\n",
    "    column_dict['total_expenditure_of_funds'] = total_expenditure_of_funds\n",
    "       \n",
    "    return pd.DataFrame(column_dict)"
   ]
  },
  {
   "cell_type": "code",
   "execution_count": 122,
   "metadata": {
    "collapsed": true
   },
   "outputs": [],
   "source": [
    "rows = parsed_data.getElementsByTagName('row')"
   ]
  },
  {
   "cell_type": "code",
   "execution_count": 123,
   "metadata": {
    "collapsed": false
   },
   "outputs": [],
   "source": [
    "sbm_financial_data = prepareDataForFinancial(rows)"
   ]
  },
  {
   "cell_type": "code",
   "execution_count": 124,
   "metadata": {
    "collapsed": false
   },
   "outputs": [
    {
     "data": {
      "text/html": [
       "<div style=\"max-height:1000px;max-width:1500px;overflow:auto;\">\n",
       "<table border=\"1\" class=\"dataframe\">\n",
       "  <thead>\n",
       "    <tr style=\"text-align: right;\">\n",
       "      <th></th>\n",
       "      <th>district</th>\n",
       "      <th>states</th>\n",
       "      <th>total_expenditure_of_funds</th>\n",
       "      <th>total_release_of_funds</th>\n",
       "    </tr>\n",
       "  </thead>\n",
       "  <tbody>\n",
       "    <tr>\n",
       "      <th>0</th>\n",
       "      <td>      ADILABAD</td>\n",
       "      <td> ANDHRA PRADESH</td>\n",
       "      <td> 4311.34</td>\n",
       "      <td> 4993.35</td>\n",
       "    </tr>\n",
       "    <tr>\n",
       "      <th>1</th>\n",
       "      <td>     ANANTAPUR</td>\n",
       "      <td> ANDHRA PRADESH</td>\n",
       "      <td> 4024.28</td>\n",
       "      <td> 5001.83</td>\n",
       "    </tr>\n",
       "    <tr>\n",
       "      <th>2</th>\n",
       "      <td>      CHITTOOR</td>\n",
       "      <td> ANDHRA PRADESH</td>\n",
       "      <td> 4002.32</td>\n",
       "      <td> 5771.78</td>\n",
       "    </tr>\n",
       "    <tr>\n",
       "      <th>3</th>\n",
       "      <td>      CUDDAPAH</td>\n",
       "      <td> ANDHRA PRADESH</td>\n",
       "      <td> 3829.79</td>\n",
       "      <td> 5452.91</td>\n",
       "    </tr>\n",
       "    <tr>\n",
       "      <th>4</th>\n",
       "      <td> EAST GODAVARI</td>\n",
       "      <td> ANDHRA PRADESH</td>\n",
       "      <td> 7310.09</td>\n",
       "      <td> 8270.70</td>\n",
       "    </tr>\n",
       "  </tbody>\n",
       "</table>\n",
       "</div>"
      ],
      "text/plain": [
       "        district          states  total_expenditure_of_funds  \\\n",
       "0       ADILABAD  ANDHRA PRADESH                     4311.34   \n",
       "1      ANANTAPUR  ANDHRA PRADESH                     4024.28   \n",
       "2       CHITTOOR  ANDHRA PRADESH                     4002.32   \n",
       "3       CUDDAPAH  ANDHRA PRADESH                     3829.79   \n",
       "4  EAST GODAVARI  ANDHRA PRADESH                     7310.09   \n",
       "\n",
       "   total_release_of_funds  \n",
       "0                 4993.35  \n",
       "1                 5001.83  \n",
       "2                 5771.78  \n",
       "3                 5452.91  \n",
       "4                 8270.70  "
      ]
     },
     "execution_count": 124,
     "metadata": {},
     "output_type": "execute_result"
    }
   ],
   "source": [
    "sbm_financial_data.head()"
   ]
  },
  {
   "cell_type": "code",
   "execution_count": 130,
   "metadata": {
    "collapsed": false
   },
   "outputs": [
    {
     "data": {
      "text/plain": [
       "(607, 6)"
      ]
     },
     "execution_count": 130,
     "metadata": {},
     "output_type": "execute_result"
    }
   ],
   "source": [
    "sbm_physical_data.shape"
   ]
  },
  {
   "cell_type": "code",
   "execution_count": 131,
   "metadata": {
    "collapsed": false
   },
   "outputs": [
    {
     "data": {
      "text/plain": [
       "(607, 4)"
      ]
     },
     "execution_count": 131,
     "metadata": {},
     "output_type": "execute_result"
    }
   ],
   "source": [
    "sbm_financial_data.shape"
   ]
  },
  {
   "cell_type": "code",
   "execution_count": 145,
   "metadata": {
    "collapsed": false
   },
   "outputs": [],
   "source": [
    "sbm_physical_financial = pd.merge(sbm_financial_data, sbm_physical_data, on='district')\n",
    "sbm_physical_financial.drop('states_y', axis = 1, inplace=True)"
   ]
  },
  {
   "cell_type": "code",
   "execution_count": 146,
   "metadata": {
    "collapsed": false
   },
   "outputs": [
    {
     "data": {
      "text/html": [
       "<div style=\"max-height:1000px;max-width:1500px;overflow:auto;\">\n",
       "<table border=\"1\" class=\"dataframe\">\n",
       "  <thead>\n",
       "    <tr style=\"text-align: right;\">\n",
       "      <th></th>\n",
       "      <th>district</th>\n",
       "      <th>states_x</th>\n",
       "      <th>total_expenditure_of_funds</th>\n",
       "      <th>total_release_of_funds</th>\n",
       "      <th>obj_ihhl_total</th>\n",
       "      <th>obj_school_toilets</th>\n",
       "      <th>perf_ihhl_total</th>\n",
       "      <th>perf_school_toilets</th>\n",
       "    </tr>\n",
       "  </thead>\n",
       "  <tbody>\n",
       "    <tr>\n",
       "      <th>0</th>\n",
       "      <td>      ADILABAD</td>\n",
       "      <td> ANDHRA PRADESH</td>\n",
       "      <td> 4311.34</td>\n",
       "      <td> 4993.35</td>\n",
       "      <td> 395656</td>\n",
       "      <td> 4462</td>\n",
       "      <td> 228731</td>\n",
       "      <td> 4462</td>\n",
       "    </tr>\n",
       "    <tr>\n",
       "      <th>1</th>\n",
       "      <td>     ANANTAPUR</td>\n",
       "      <td> ANDHRA PRADESH</td>\n",
       "      <td> 4024.28</td>\n",
       "      <td> 5001.83</td>\n",
       "      <td> 544649</td>\n",
       "      <td> 3421</td>\n",
       "      <td> 408557</td>\n",
       "      <td> 4258</td>\n",
       "    </tr>\n",
       "    <tr>\n",
       "      <th>2</th>\n",
       "      <td>      CHITTOOR</td>\n",
       "      <td> ANDHRA PRADESH</td>\n",
       "      <td> 4002.32</td>\n",
       "      <td> 5771.78</td>\n",
       "      <td> 533451</td>\n",
       "      <td> 8171</td>\n",
       "      <td> 460655</td>\n",
       "      <td> 8171</td>\n",
       "    </tr>\n",
       "    <tr>\n",
       "      <th>3</th>\n",
       "      <td>      CUDDAPAH</td>\n",
       "      <td> ANDHRA PRADESH</td>\n",
       "      <td> 3829.79</td>\n",
       "      <td> 5452.91</td>\n",
       "      <td> 503263</td>\n",
       "      <td> 6802</td>\n",
       "      <td> 365273</td>\n",
       "      <td> 5431</td>\n",
       "    </tr>\n",
       "    <tr>\n",
       "      <th>4</th>\n",
       "      <td> EAST GODAVARI</td>\n",
       "      <td> ANDHRA PRADESH</td>\n",
       "      <td> 7310.09</td>\n",
       "      <td> 8270.70</td>\n",
       "      <td> 561655</td>\n",
       "      <td> 7004</td>\n",
       "      <td> 538705</td>\n",
       "      <td> 7004</td>\n",
       "    </tr>\n",
       "  </tbody>\n",
       "</table>\n",
       "</div>"
      ],
      "text/plain": [
       "        district        states_x  total_expenditure_of_funds  \\\n",
       "0       ADILABAD  ANDHRA PRADESH                     4311.34   \n",
       "1      ANANTAPUR  ANDHRA PRADESH                     4024.28   \n",
       "2       CHITTOOR  ANDHRA PRADESH                     4002.32   \n",
       "3       CUDDAPAH  ANDHRA PRADESH                     3829.79   \n",
       "4  EAST GODAVARI  ANDHRA PRADESH                     7310.09   \n",
       "\n",
       "   total_release_of_funds  obj_ihhl_total  obj_school_toilets  \\\n",
       "0                 4993.35          395656                4462   \n",
       "1                 5001.83          544649                3421   \n",
       "2                 5771.78          533451                8171   \n",
       "3                 5452.91          503263                6802   \n",
       "4                 8270.70          561655                7004   \n",
       "\n",
       "   perf_ihhl_total  perf_school_toilets  \n",
       "0           228731                 4462  \n",
       "1           408557                 4258  \n",
       "2           460655                 8171  \n",
       "3           365273                 5431  \n",
       "4           538705                 7004  "
      ]
     },
     "execution_count": 146,
     "metadata": {},
     "output_type": "execute_result"
    }
   ],
   "source": [
    "sbm_physical_financial.head()"
   ]
  },
  {
   "cell_type": "code",
   "execution_count": 144,
   "metadata": {
    "collapsed": false
   },
   "outputs": [],
   "source": []
  }
 ],
 "metadata": {
  "kernelspec": {
   "display_name": "Python 2",
   "language": "python",
   "name": "python2"
  },
  "language_info": {
   "codemirror_mode": {
    "name": "ipython",
    "version": 2
   },
   "file_extension": ".py",
   "mimetype": "text/x-python",
   "name": "python",
   "nbconvert_exporter": "python",
   "pygments_lexer": "ipython2",
   "version": "2.7.6"
  }
 },
 "nbformat": 4,
 "nbformat_minor": 0
}
